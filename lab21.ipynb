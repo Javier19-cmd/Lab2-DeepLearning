{
 "cells": [
  {
   "cell_type": "code",
   "execution_count": 1,
   "metadata": {},
   "outputs": [],
   "source": [
    "import pandas as pd\n",
    "import numpy as np\n",
    "import tensorflow as tf\n",
    "from sklearn.model_selection import train_test_split, KFold\n",
    "from sklearn.preprocessing import StandardScaler\n",
    "from sklearn.metrics import mean_squared_error, r2_score\n"
   ]
  },
  {
   "cell_type": "code",
   "execution_count": 2,
   "metadata": {},
   "outputs": [
    {
     "name": "stdout",
     "output_type": "stream",
     "text": [
      "28/28 [==============================] - 0s 1ms/step\n",
      "Mean Squared Error: 6.041849895861244e+16\n",
      "R-squared: -0.34453537855519367\n",
      "\n",
      "28/28 [==============================] - 0s 1ms/step\n",
      "Mean Squared Error: 4.771583912609927e+16\n",
      "R-squared: -0.33182089456586183\n",
      "\n",
      "28/28 [==============================] - 0s 1ms/step\n",
      "Mean Squared Error: 5.88117095940661e+16\n",
      "R-squared: -0.22506685328161757\n",
      "\n"
     ]
    }
   ],
   "source": [
    "# Cargar los datos desde un archivo CSV o cualquier otra fuente\n",
    "data = pd.read_csv('dataset.csv')\n",
    "\n",
    "# Seleccionar las columnas relevantes para el modelo de regresión\n",
    "selected_columns = [ 'Production budget $', 'Worldwide gross $']\n",
    "data = data[selected_columns]\n",
    "\n",
    "# Eliminar filas con datos faltantes, si es necesario\n",
    "data.dropna(inplace=True)\n",
    "\n",
    "# Dividir los datos en variables predictoras (X) y variable objetivo (y)\n",
    "X = data.drop('Worldwide gross $', axis=1)\n",
    "y = data['Worldwide gross $']\n",
    "\n",
    "# Normalizar las variables predictoras para mejorar la convergencia del modelo\n",
    "scaler = StandardScaler()\n",
    "X = scaler.fit_transform(X)\n",
    "\n",
    "# Aplicar validación cruzada para evaluar el rendimiento del modelo\n",
    "kf = KFold(n_splits=5, shuffle=True, random_state=42)\n",
    "mse_scores = []\n",
    "r_squared_scores = []\n",
    "\n",
    "for train_index, test_index in kf.split(X):\n",
    "    X_train, X_test = X[train_index], X[test_index]\n",
    "    y_train, y_test = y.iloc[train_index], y.iloc[test_index]\n",
    "\n",
    "    # Construir el modelo de regresión utilizando TensorFlow\n",
    "    model = tf.keras.Sequential([\n",
    "        tf.keras.layers.Dense(64, activation='relu', kernel_regularizer=tf.keras.regularizers.l2(0.01), input_shape=(X_train.shape[1],)),\n",
    "        tf.keras.layers.Dense(32, activation='relu', kernel_regularizer=tf.keras.regularizers.l2(0.01)),\n",
    "        tf.keras.layers.Dense(1)\n",
    "    ])\n",
    "\n",
    "    # Compilar el modelo\n",
    "    model.compile(optimizer='adam', loss='mse')\n",
    "\n",
    "    # Entrenar el modelo con los datos de entrenamiento\n",
    "    model.fit(X_train, y_train, epochs=100, batch_size=32, verbose=0)\n",
    "\n",
    "    # Realizar predicciones en el conjunto de prueba\n",
    "    y_pred = model.predict(X_test).flatten()\n",
    "\n",
    "    # Evaluar el rendimiento del modelo en esta división\n",
    "    mse = mean_squared_error(y_test, y_pred)\n",
    "    r_squared = r2_score(y_test, y_pred)\n",
    "\n",
    "    mse_scores.append(mse)\n",
    "    r_squared_scores.append(r_squared)\n",
    "\n",
    "    print(f'Mean Squared Error: {mse}')\n",
    "    print(f'R-squared: {r_squared}')\n",
    "    print()\n",
    "\n",
    "# Evaluar el rendimiento promedio del modelo a través de todas las divisiones\n",
    "print(f'Mean MSE: {np.mean(mse_scores)}')\n",
    "print(f'Mean R-squared: {np.mean(r_squared_scores)}')"
   ]
  }
 ],
 "metadata": {
  "kernelspec": {
   "display_name": "Python 3",
   "language": "python",
   "name": "python3"
  },
  "language_info": {
   "codemirror_mode": {
    "name": "ipython",
    "version": 3
   },
   "file_extension": ".py",
   "mimetype": "text/x-python",
   "name": "python",
   "nbconvert_exporter": "python",
   "pygments_lexer": "ipython3",
   "version": "3.11.3"
  },
  "orig_nbformat": 4
 },
 "nbformat": 4,
 "nbformat_minor": 2
}
