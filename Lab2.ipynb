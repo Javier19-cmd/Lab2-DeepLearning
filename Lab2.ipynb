{
 "cells": [
  {
   "cell_type": "markdown",
   "metadata": {},
   "source": [
    "#### Laboratorio 2\n",
    "\n",
    "##### Javier Valle 20159\n",
    "##### Mario de León 19029"
   ]
  },
  {
   "cell_type": "code",
   "execution_count": 1,
   "metadata": {},
   "outputs": [],
   "source": [
    "import tensorflow as tf\n",
    "import pandas as pd\n",
    "import numpy as np\n",
    "import matplotlib.pyplot as plt\n",
    "from sklearn.model_selection import train_test_split\n",
    "from tensorflow.keras.models import Sequential\n",
    "from tensorflow.keras.layers import Dense, BatchNormalization\n",
    "from tensorflow.keras.optimizers import RMSprop\n",
    "\n"
   ]
  },
  {
   "cell_type": "markdown",
   "metadata": {},
   "source": [
    "##### Analizando el dataset."
   ]
  },
  {
   "cell_type": "code",
   "execution_count": 2,
   "metadata": {},
   "outputs": [
    {
     "data": {
      "text/plain": [
       "Index(['movie_title', 'production_date', 'genres', 'runtime_minutes',\n",
       "       'director_name', 'director_professions', 'director_birthYear',\n",
       "       'director_deathYear', 'movie_averageRating', 'movie_numerOfVotes',\n",
       "       'approval_Index', 'Production budget $', 'Domestic gross $',\n",
       "       'Worldwide gross $'],\n",
       "      dtype='object')"
      ]
     },
     "execution_count": 2,
     "metadata": {},
     "output_type": "execute_result"
    }
   ],
   "source": [
    "# Importando el dataset.\n",
    "dataset = \"dataset.csv\"\n",
    "\n",
    "# Cargando el dataset.\n",
    "df = pd.read_csv(dataset)\n",
    "\n",
    "# Imprimiendo el dataset.\n",
    "df\n",
    "\n",
    "# Imprimiendo los títulos del dataset.\n",
    "df.columns\n",
    "\n",
    "# Objetivo de la red: Clasificación.\n",
    "\n",
    "# Posibles variables a utilizar para clasificar: \n",
    "# 1. Production budget $\n",
    "# 2. Worldwide gross $\n",
    "# 3. Domestic gross $\n"
   ]
  },
  {
   "cell_type": "markdown",
   "metadata": {},
   "source": [
    "##### Imprimiendo las columnas elegidas del dataset."
   ]
  },
  {
   "cell_type": "code",
   "execution_count": 3,
   "metadata": {},
   "outputs": [
    {
     "name": "stdout",
     "output_type": "stream",
     "text": [
      "      movie_averageRating  movie_numerOfVotes  approval_Index\n",
      "0               460000000          2265935552       667830256\n",
      "1               400000000          2794731755       858373000\n",
      "2               379000000          1045713802       241071802\n",
      "3               365000000          1395316979       459005868\n",
      "4               300000000          2048359754       678815482\n",
      "...                   ...                 ...             ...\n",
      "4375                65000            22233808        11529368\n",
      "4376                50000            10426506        10426506\n",
      "4377                50000             2335352         2335352\n",
      "4378                50000              424149          391674\n",
      "4379                50000                8374            8374\n",
      "\n",
      "[4380 rows x 3 columns]\n"
     ]
    }
   ],
   "source": [
    "# Imprimiedo las columnas a utilizar (movie_averageRating, movie_numerOfVotes y approval_Index).\n",
    "\n",
    "# Seleccionamos las columnas que queremos combinar\n",
    "selected_columns = ['Production budget $', 'Worldwide gross $', 'Domestic gross $']\n",
    "\n",
    "# Utilizamos la función concat() para combinar las columnas en una sola variable\n",
    "combined_variable = pd.concat([df[col] for col in selected_columns], axis=1)\n",
    "\n",
    "# Renombramos las columnas del nuevo DataFrame resultante\n",
    "combined_variable.columns = ['movie_averageRating', 'movie_numerOfVotes', 'approval_Index']\n",
    "\n",
    "# Ahora 'combined_variable' contiene todas las columnas seleccionadas combinadas en una sola variable\n",
    "print(combined_variable)"
   ]
  },
  {
   "cell_type": "markdown",
   "metadata": {},
   "source": [
    "##### Creando one-hot encoding - movie_title"
   ]
  },
  {
   "cell_type": "code",
   "execution_count": 4,
   "metadata": {},
   "outputs": [],
   "source": [
    "# label -> one-hot encoding\n",
    "label = pd.get_dummies(df['movie_title'], prefix='movie_title')\n",
    "df = pd.concat([df, label], axis=1)\n",
    "# drop old label\n",
    "df.drop(['movie_title'], axis=1, inplace=True)"
   ]
  },
  {
   "cell_type": "markdown",
   "metadata": {},
   "source": [
    "##### Creando un X y un Y para el entrenamiento."
   ]
  },
  {
   "cell_type": "code",
   "execution_count": 5,
   "metadata": {},
   "outputs": [],
   "source": [
    "# En la variable X se necesitaría meter esto 'Production budget $', 'Worldwide gross $', 'Domestic gross $'\n",
    "\n",
    "X = df[['movie_averageRating', 'movie_numerOfVotes', 'approval_Index']]\n",
    "\n",
    "# En el eje y sería esto 'movie_averageRating', 'movie_numerOfVotes', 'approval_Index'.\n",
    "Y = df[['Production budget $', 'Worldwide gross $', 'Domestic gross $']]"
   ]
  },
  {
   "cell_type": "markdown",
   "metadata": {},
   "source": [
    "##### Entrenando la red."
   ]
  },
  {
   "cell_type": "code",
   "execution_count": 6,
   "metadata": {},
   "outputs": [
    {
     "name": "stdout",
     "output_type": "stream",
     "text": [
      "X_train:  (3504, 3)\n",
      "X_test:  (876, 3)\n",
      "y_train:  (3504, 3)\n",
      "y_test:  (876, 3)\n"
     ]
    }
   ],
   "source": [
    "X_train, X_test, y_train, y_test = train_test_split(\n",
    "    X, \n",
    "    Y, \n",
    "    test_size=0.2, \n",
    "    )\n",
    "\n",
    "# Verificando los resultados.\n",
    "print(\"X_train: \", X_train.shape)\n",
    "print(\"X_test: \", X_test.shape)\n",
    "print(\"y_train: \", y_train.shape)\n",
    "print(\"y_test: \", y_test.shape)"
   ]
  },
  {
   "cell_type": "markdown",
   "metadata": {},
   "source": [
    "##### Creando la red"
   ]
  },
  {
   "cell_type": "code",
   "execution_count": 7,
   "metadata": {},
   "outputs": [],
   "source": [
    "# Nueva arquitectura ajustada\n",
    "batched_model = Sequential([\n",
    "    Dense(128, input_shape=(3,), activation=\"relu\"),   # Aumentamos el número de neuronas a 128\n",
    "    BatchNormalization(),\n",
    "    Dense(256, activation='relu'),                      # Aumentamos el número de neuronas a 256\n",
    "    BatchNormalization(),\n",
    "    Dense(256, activation='relu'),                      # Aumentamos el número de neuronas a 256\n",
    "    BatchNormalization(),\n",
    "    Dense(128, activation='relu'),                      # Ajustamos las neuronas a 128\n",
    "    BatchNormalization(),\n",
    "    Dense(64, activation='relu'),                       # Ajustamos las neuronas a 64\n",
    "    BatchNormalization(),\n",
    "    Dense(3, activation='softmax')\n",
    "])"
   ]
  },
  {
   "cell_type": "code",
   "execution_count": null,
   "metadata": {},
   "outputs": [],
   "source": [
    "# Compilar el modelo con RMSprop como optimizador\n",
    "batched_model.compile(\n",
    "    optimizer=RMSprop(), \n",
    "    loss='mean_squared_error', \n",
    "    metrics=['accuracy']\n",
    ")"
   ]
  },
  {
   "cell_type": "code",
   "execution_count": null,
   "metadata": {},
   "outputs": [
    {
     "name": "stdout",
     "output_type": "stream",
     "text": [
      "Epoch 1/100\n",
      "6/6 - 4s - loss: 18695728498999296.0000 - accuracy: 0.4471 - val_loss: 27731059789529088.0000 - val_accuracy: 0.7466 - 4s/epoch - 645ms/step\n",
      "Epoch 2/100\n",
      "6/6 - 0s - loss: 18695728498999296.0000 - accuracy: 0.6233 - val_loss: 27731059789529088.0000 - val_accuracy: 0.7466 - 303ms/epoch - 51ms/step\n",
      "Epoch 3/100\n",
      "6/6 - 0s - loss: 18695728498999296.0000 - accuracy: 0.7066 - val_loss: 27731059789529088.0000 - val_accuracy: 0.7489 - 291ms/epoch - 49ms/step\n",
      "Epoch 4/100\n",
      "6/6 - 0s - loss: 18695728498999296.0000 - accuracy: 0.7215 - val_loss: 27731059789529088.0000 - val_accuracy: 0.6998 - 285ms/epoch - 48ms/step\n",
      "Epoch 5/100\n",
      "6/6 - 0s - loss: 18695728498999296.0000 - accuracy: 0.7207 - val_loss: 27731059789529088.0000 - val_accuracy: 0.7409 - 281ms/epoch - 47ms/step\n",
      "Epoch 6/100\n",
      "6/6 - 0s - loss: 18695728498999296.0000 - accuracy: 0.7237 - val_loss: 27731059789529088.0000 - val_accuracy: 0.7374 - 297ms/epoch - 50ms/step\n",
      "Epoch 7/100\n",
      "6/6 - 0s - loss: 18695728498999296.0000 - accuracy: 0.7348 - val_loss: 27731059789529088.0000 - val_accuracy: 0.7340 - 282ms/epoch - 47ms/step\n",
      "Epoch 8/100\n",
      "6/6 - 0s - loss: 18695728498999296.0000 - accuracy: 0.7397 - val_loss: 27731059789529088.0000 - val_accuracy: 0.7180 - 287ms/epoch - 48ms/step\n",
      "Epoch 9/100\n",
      "6/6 - 0s - loss: 18695728498999296.0000 - accuracy: 0.7424 - val_loss: 27731059789529088.0000 - val_accuracy: 0.7237 - 297ms/epoch - 49ms/step\n",
      "Epoch 10/100\n",
      "6/6 - 0s - loss: 18695728498999296.0000 - accuracy: 0.7397 - val_loss: 27731059789529088.0000 - val_accuracy: 0.7329 - 290ms/epoch - 48ms/step\n",
      "Epoch 11/100\n",
      "6/6 - 0s - loss: 18695728498999296.0000 - accuracy: 0.7386 - val_loss: 27731059789529088.0000 - val_accuracy: 0.7237 - 281ms/epoch - 47ms/step\n",
      "Epoch 12/100\n",
      "6/6 - 0s - loss: 18695728498999296.0000 - accuracy: 0.7435 - val_loss: 27731059789529088.0000 - val_accuracy: 0.7272 - 287ms/epoch - 48ms/step\n",
      "Epoch 13/100\n",
      "6/6 - 0s - loss: 18695728498999296.0000 - accuracy: 0.7470 - val_loss: 27731059789529088.0000 - val_accuracy: 0.7237 - 300ms/epoch - 50ms/step\n",
      "Epoch 14/100\n",
      "6/6 - 0s - loss: 18695730646482944.0000 - accuracy: 0.7511 - val_loss: 27731059789529088.0000 - val_accuracy: 0.7226 - 289ms/epoch - 48ms/step\n",
      "Epoch 15/100\n",
      "6/6 - 0s - loss: 18695728498999296.0000 - accuracy: 0.7348 - val_loss: 27731059789529088.0000 - val_accuracy: 0.7237 - 280ms/epoch - 47ms/step\n",
      "Epoch 16/100\n",
      "6/6 - 0s - loss: 18695728498999296.0000 - accuracy: 0.7508 - val_loss: 27731059789529088.0000 - val_accuracy: 0.7237 - 298ms/epoch - 50ms/step\n",
      "Epoch 17/100\n",
      "6/6 - 0s - loss: 18695728498999296.0000 - accuracy: 0.7492 - val_loss: 27731059789529088.0000 - val_accuracy: 0.7237 - 289ms/epoch - 48ms/step\n",
      "Epoch 18/100\n",
      "6/6 - 0s - loss: 18695730646482944.0000 - accuracy: 0.7485 - val_loss: 27731059789529088.0000 - val_accuracy: 0.7489 - 287ms/epoch - 48ms/step\n",
      "Epoch 19/100\n",
      "6/6 - 0s - loss: 18695728498999296.0000 - accuracy: 0.7489 - val_loss: 27731059789529088.0000 - val_accuracy: 0.7477 - 298ms/epoch - 50ms/step\n",
      "Epoch 20/100\n",
      "6/6 - 0s - loss: 18695728498999296.0000 - accuracy: 0.7542 - val_loss: 27731059789529088.0000 - val_accuracy: 0.7466 - 300ms/epoch - 50ms/step\n",
      "Epoch 21/100\n",
      "6/6 - 0s - loss: 18695728498999296.0000 - accuracy: 0.7492 - val_loss: 27731059789529088.0000 - val_accuracy: 0.7021 - 287ms/epoch - 48ms/step\n",
      "Epoch 22/100\n",
      "6/6 - 0s - loss: 18695728498999296.0000 - accuracy: 0.7268 - val_loss: 27731059789529088.0000 - val_accuracy: 0.7409 - 289ms/epoch - 48ms/step\n",
      "Epoch 23/100\n",
      "6/6 - 0s - loss: 18695728498999296.0000 - accuracy: 0.7530 - val_loss: 27731059789529088.0000 - val_accuracy: 0.7500 - 294ms/epoch - 49ms/step\n",
      "Epoch 24/100\n",
      "6/6 - 0s - loss: 18695728498999296.0000 - accuracy: 0.7538 - val_loss: 27731059789529088.0000 - val_accuracy: 0.7500 - 286ms/epoch - 48ms/step\n",
      "Epoch 25/100\n",
      "6/6 - 0s - loss: 18695728498999296.0000 - accuracy: 0.7527 - val_loss: 27731059789529088.0000 - val_accuracy: 0.7523 - 280ms/epoch - 47ms/step\n",
      "Epoch 26/100\n",
      "6/6 - 0s - loss: 18695728498999296.0000 - accuracy: 0.7515 - val_loss: 27731059789529088.0000 - val_accuracy: 0.7500 - 283ms/epoch - 47ms/step\n",
      "Epoch 27/100\n",
      "6/6 - 0s - loss: 18695728498999296.0000 - accuracy: 0.7515 - val_loss: 27731059789529088.0000 - val_accuracy: 0.7511 - 312ms/epoch - 52ms/step\n",
      "Epoch 28/100\n",
      "6/6 - 0s - loss: 18695728498999296.0000 - accuracy: 0.7527 - val_loss: 27731059789529088.0000 - val_accuracy: 0.7100 - 297ms/epoch - 50ms/step\n",
      "Epoch 29/100\n",
      "6/6 - 0s - loss: 18695728498999296.0000 - accuracy: 0.7511 - val_loss: 27731059789529088.0000 - val_accuracy: 0.7237 - 310ms/epoch - 52ms/step\n",
      "Epoch 30/100\n",
      "6/6 - 0s - loss: 18695730646482944.0000 - accuracy: 0.7530 - val_loss: 27731059789529088.0000 - val_accuracy: 0.7534 - 325ms/epoch - 54ms/step\n",
      "Epoch 31/100\n",
      "6/6 - 0s - loss: 18695728498999296.0000 - accuracy: 0.7553 - val_loss: 27731059789529088.0000 - val_accuracy: 0.7192 - 306ms/epoch - 51ms/step\n",
      "Epoch 32/100\n",
      "6/6 - 0s - loss: 18695728498999296.0000 - accuracy: 0.7496 - val_loss: 27731059789529088.0000 - val_accuracy: 0.7329 - 342ms/epoch - 57ms/step\n",
      "Epoch 33/100\n",
      "6/6 - 0s - loss: 18695730646482944.0000 - accuracy: 0.7534 - val_loss: 27731059789529088.0000 - val_accuracy: 0.7089 - 327ms/epoch - 55ms/step\n",
      "Epoch 34/100\n",
      "6/6 - 0s - loss: 18695728498999296.0000 - accuracy: 0.7466 - val_loss: 27731059789529088.0000 - val_accuracy: 0.7477 - 296ms/epoch - 49ms/step\n",
      "Epoch 35/100\n",
      "6/6 - 0s - loss: 18695728498999296.0000 - accuracy: 0.7534 - val_loss: 27731059789529088.0000 - val_accuracy: 0.7237 - 283ms/epoch - 47ms/step\n",
      "Epoch 36/100\n",
      "6/6 - 0s - loss: 18695728498999296.0000 - accuracy: 0.7568 - val_loss: 27731059789529088.0000 - val_accuracy: 0.7466 - 307ms/epoch - 51ms/step\n",
      "Epoch 37/100\n",
      "6/6 - 0s - loss: 18695730646482944.0000 - accuracy: 0.7527 - val_loss: 27731059789529088.0000 - val_accuracy: 0.7489 - 298ms/epoch - 50ms/step\n",
      "Epoch 38/100\n",
      "6/6 - 0s - loss: 18695728498999296.0000 - accuracy: 0.7549 - val_loss: 27731059789529088.0000 - val_accuracy: 0.7511 - 284ms/epoch - 47ms/step\n",
      "Epoch 39/100\n",
      "6/6 - 0s - loss: 18695730646482944.0000 - accuracy: 0.7504 - val_loss: 27731059789529088.0000 - val_accuracy: 0.7477 - 286ms/epoch - 48ms/step\n",
      "Epoch 40/100\n",
      "6/6 - 0s - loss: 18695728498999296.0000 - accuracy: 0.7519 - val_loss: 27731059789529088.0000 - val_accuracy: 0.7215 - 332ms/epoch - 55ms/step\n",
      "Epoch 41/100\n",
      "6/6 - 0s - loss: 18695728498999296.0000 - accuracy: 0.7504 - val_loss: 27731059789529088.0000 - val_accuracy: 0.7489 - 306ms/epoch - 51ms/step\n",
      "Epoch 42/100\n",
      "6/6 - 0s - loss: 18695728498999296.0000 - accuracy: 0.7523 - val_loss: 27731059789529088.0000 - val_accuracy: 0.7237 - 291ms/epoch - 49ms/step\n",
      "Epoch 43/100\n",
      "6/6 - 0s - loss: 18695730646482944.0000 - accuracy: 0.7454 - val_loss: 27731059789529088.0000 - val_accuracy: 0.7237 - 302ms/epoch - 50ms/step\n",
      "Epoch 44/100\n",
      "6/6 - 0s - loss: 18695728498999296.0000 - accuracy: 0.7519 - val_loss: 27731059789529088.0000 - val_accuracy: 0.7443 - 328ms/epoch - 55ms/step\n",
      "Epoch 45/100\n",
      "6/6 - 0s - loss: 18695728498999296.0000 - accuracy: 0.7511 - val_loss: 27731059789529088.0000 - val_accuracy: 0.7374 - 301ms/epoch - 50ms/step\n",
      "Epoch 46/100\n",
      "6/6 - 0s - loss: 18695728498999296.0000 - accuracy: 0.7523 - val_loss: 27731059789529088.0000 - val_accuracy: 0.7374 - 328ms/epoch - 55ms/step\n",
      "Epoch 47/100\n",
      "6/6 - 0s - loss: 18695728498999296.0000 - accuracy: 0.7523 - val_loss: 27731059789529088.0000 - val_accuracy: 0.7477 - 289ms/epoch - 48ms/step\n",
      "Epoch 48/100\n",
      "6/6 - 0s - loss: 18695728498999296.0000 - accuracy: 0.7530 - val_loss: 27731059789529088.0000 - val_accuracy: 0.7534 - 287ms/epoch - 48ms/step\n",
      "Epoch 49/100\n",
      "6/6 - 0s - loss: 18695728498999296.0000 - accuracy: 0.7511 - val_loss: 27731059789529088.0000 - val_accuracy: 0.7534 - 279ms/epoch - 46ms/step\n",
      "Epoch 50/100\n",
      "6/6 - 0s - loss: 18695730646482944.0000 - accuracy: 0.7519 - val_loss: 27731059789529088.0000 - val_accuracy: 0.7237 - 300ms/epoch - 50ms/step\n",
      "Epoch 51/100\n",
      "6/6 - 0s - loss: 18695728498999296.0000 - accuracy: 0.7527 - val_loss: 27731059789529088.0000 - val_accuracy: 0.7374 - 291ms/epoch - 49ms/step\n",
      "Epoch 52/100\n",
      "6/6 - 0s - loss: 18695728498999296.0000 - accuracy: 0.7549 - val_loss: 27731059789529088.0000 - val_accuracy: 0.7443 - 276ms/epoch - 46ms/step\n",
      "Epoch 53/100\n",
      "6/6 - 0s - loss: 18695728498999296.0000 - accuracy: 0.7538 - val_loss: 27731059789529088.0000 - val_accuracy: 0.7226 - 291ms/epoch - 48ms/step\n",
      "Epoch 54/100\n",
      "6/6 - 0s - loss: 18695728498999296.0000 - accuracy: 0.7428 - val_loss: 27731059789529088.0000 - val_accuracy: 0.7489 - 288ms/epoch - 48ms/step\n",
      "Epoch 55/100\n",
      "6/6 - 0s - loss: 18695728498999296.0000 - accuracy: 0.7530 - val_loss: 27731059789529088.0000 - val_accuracy: 0.7454 - 280ms/epoch - 47ms/step\n",
      "Epoch 56/100\n",
      "6/6 - 0s - loss: 18695728498999296.0000 - accuracy: 0.7511 - val_loss: 27731059789529088.0000 - val_accuracy: 0.7500 - 279ms/epoch - 46ms/step\n",
      "Epoch 57/100\n",
      "6/6 - 0s - loss: 18695728498999296.0000 - accuracy: 0.7527 - val_loss: 27731059789529088.0000 - val_accuracy: 0.7477 - 287ms/epoch - 48ms/step\n",
      "Epoch 58/100\n",
      "6/6 - 0s - loss: 18695728498999296.0000 - accuracy: 0.7515 - val_loss: 27731059789529088.0000 - val_accuracy: 0.7237 - 283ms/epoch - 47ms/step\n",
      "Epoch 59/100\n",
      "6/6 - 0s - loss: 18695728498999296.0000 - accuracy: 0.7511 - val_loss: 27731059789529088.0000 - val_accuracy: 0.7237 - 277ms/epoch - 46ms/step\n",
      "Epoch 60/100\n",
      "6/6 - 0s - loss: 18695728498999296.0000 - accuracy: 0.7527 - val_loss: 27731059789529088.0000 - val_accuracy: 0.7237 - 288ms/epoch - 48ms/step\n",
      "Epoch 61/100\n",
      "6/6 - 0s - loss: 18695728498999296.0000 - accuracy: 0.7557 - val_loss: 27731059789529088.0000 - val_accuracy: 0.7237 - 290ms/epoch - 48ms/step\n",
      "Epoch 62/100\n",
      "6/6 - 0s - loss: 18695728498999296.0000 - accuracy: 0.7538 - val_loss: 27731059789529088.0000 - val_accuracy: 0.7237 - 281ms/epoch - 47ms/step\n",
      "Epoch 63/100\n",
      "6/6 - 0s - loss: 18695728498999296.0000 - accuracy: 0.7549 - val_loss: 27731059789529088.0000 - val_accuracy: 0.7203 - 282ms/epoch - 47ms/step\n",
      "Epoch 64/100\n",
      "6/6 - 0s - loss: 18695728498999296.0000 - accuracy: 0.7565 - val_loss: 27731059789529088.0000 - val_accuracy: 0.7226 - 319ms/epoch - 53ms/step\n",
      "Epoch 65/100\n",
      "6/6 - 0s - loss: 18695728498999296.0000 - accuracy: 0.7534 - val_loss: 27731059789529088.0000 - val_accuracy: 0.7215 - 326ms/epoch - 54ms/step\n",
      "Epoch 66/100\n",
      "6/6 - 0s - loss: 18695730646482944.0000 - accuracy: 0.7511 - val_loss: 27731059789529088.0000 - val_accuracy: 0.7135 - 303ms/epoch - 51ms/step\n",
      "Epoch 67/100\n",
      "6/6 - 0s - loss: 18695728498999296.0000 - accuracy: 0.7527 - val_loss: 27731059789529088.0000 - val_accuracy: 0.7237 - 320ms/epoch - 53ms/step\n",
      "Epoch 68/100\n",
      "6/6 - 0s - loss: 18695728498999296.0000 - accuracy: 0.7538 - val_loss: 27731059789529088.0000 - val_accuracy: 0.7237 - 312ms/epoch - 52ms/step\n",
      "Epoch 69/100\n",
      "6/6 - 0s - loss: 18695728498999296.0000 - accuracy: 0.7496 - val_loss: 27731059789529088.0000 - val_accuracy: 0.7237 - 293ms/epoch - 49ms/step\n",
      "Epoch 70/100\n",
      "6/6 - 0s - loss: 18695728498999296.0000 - accuracy: 0.7511 - val_loss: 27731059789529088.0000 - val_accuracy: 0.7237 - 307ms/epoch - 51ms/step\n",
      "Epoch 71/100\n",
      "6/6 - 0s - loss: 18695728498999296.0000 - accuracy: 0.7489 - val_loss: 27731059789529088.0000 - val_accuracy: 0.7215 - 302ms/epoch - 50ms/step\n",
      "Epoch 72/100\n",
      "6/6 - 0s - loss: 18695728498999296.0000 - accuracy: 0.7538 - val_loss: 27731059789529088.0000 - val_accuracy: 0.7237 - 281ms/epoch - 47ms/step\n",
      "Epoch 73/100\n",
      "6/6 - 0s - loss: 18695728498999296.0000 - accuracy: 0.7420 - val_loss: 27731059789529088.0000 - val_accuracy: 0.7203 - 276ms/epoch - 46ms/step\n",
      "Epoch 74/100\n",
      "6/6 - 0s - loss: 18695728498999296.0000 - accuracy: 0.7515 - val_loss: 27731059789529088.0000 - val_accuracy: 0.7192 - 284ms/epoch - 47ms/step\n",
      "Epoch 75/100\n",
      "6/6 - 0s - loss: 18695728498999296.0000 - accuracy: 0.7572 - val_loss: 27731059789529088.0000 - val_accuracy: 0.7135 - 291ms/epoch - 48ms/step\n",
      "Epoch 76/100\n",
      "6/6 - 0s - loss: 18695728498999296.0000 - accuracy: 0.7424 - val_loss: 27731059789529088.0000 - val_accuracy: 0.7237 - 277ms/epoch - 46ms/step\n",
      "Epoch 77/100\n",
      "6/6 - 0s - loss: 18695730646482944.0000 - accuracy: 0.7530 - val_loss: 27731059789529088.0000 - val_accuracy: 0.7237 - 290ms/epoch - 48ms/step\n",
      "Epoch 78/100\n",
      "6/6 - 0s - loss: 18695728498999296.0000 - accuracy: 0.7489 - val_loss: 27731059789529088.0000 - val_accuracy: 0.7237 - 319ms/epoch - 53ms/step\n",
      "Epoch 79/100\n",
      "6/6 - 0s - loss: 18695728498999296.0000 - accuracy: 0.7534 - val_loss: 27731059789529088.0000 - val_accuracy: 0.7215 - 284ms/epoch - 47ms/step\n",
      "Epoch 80/100\n",
      "6/6 - 0s - loss: 18695730646482944.0000 - accuracy: 0.7481 - val_loss: 27731059789529088.0000 - val_accuracy: 0.7237 - 284ms/epoch - 47ms/step\n",
      "Epoch 81/100\n",
      "6/6 - 0s - loss: 18695728498999296.0000 - accuracy: 0.7534 - val_loss: 27731059789529088.0000 - val_accuracy: 0.7237 - 290ms/epoch - 48ms/step\n",
      "Epoch 82/100\n",
      "6/6 - 0s - loss: 18695728498999296.0000 - accuracy: 0.7527 - val_loss: 27731059789529088.0000 - val_accuracy: 0.7215 - 289ms/epoch - 48ms/step\n",
      "Epoch 83/100\n",
      "6/6 - 0s - loss: 18695728498999296.0000 - accuracy: 0.7523 - val_loss: 27731059789529088.0000 - val_accuracy: 0.7215 - 295ms/epoch - 49ms/step\n",
      "Epoch 84/100\n",
      "6/6 - 0s - loss: 18695728498999296.0000 - accuracy: 0.7523 - val_loss: 27731059789529088.0000 - val_accuracy: 0.7135 - 339ms/epoch - 57ms/step\n",
      "Epoch 85/100\n",
      "6/6 - 0s - loss: 18695728498999296.0000 - accuracy: 0.7508 - val_loss: 27731059789529088.0000 - val_accuracy: 0.7237 - 289ms/epoch - 48ms/step\n",
      "Epoch 86/100\n",
      "6/6 - 0s - loss: 18695728498999296.0000 - accuracy: 0.7477 - val_loss: 27731059789529088.0000 - val_accuracy: 0.7237 - 283ms/epoch - 47ms/step\n",
      "Epoch 87/100\n",
      "6/6 - 0s - loss: 18695728498999296.0000 - accuracy: 0.7504 - val_loss: 27731059789529088.0000 - val_accuracy: 0.7237 - 284ms/epoch - 47ms/step\n",
      "Epoch 88/100\n",
      "6/6 - 0s - loss: 18695728498999296.0000 - accuracy: 0.7500 - val_loss: 27731059789529088.0000 - val_accuracy: 0.7237 - 318ms/epoch - 53ms/step\n",
      "Epoch 89/100\n",
      "6/6 - 0s - loss: 18695728498999296.0000 - accuracy: 0.7477 - val_loss: 27731059789529088.0000 - val_accuracy: 0.7237 - 299ms/epoch - 50ms/step\n",
      "Epoch 90/100\n",
      "6/6 - 0s - loss: 18695728498999296.0000 - accuracy: 0.7466 - val_loss: 27731059789529088.0000 - val_accuracy: 0.7078 - 333ms/epoch - 55ms/step\n",
      "Epoch 91/100\n",
      "6/6 - 0s - loss: 18695728498999296.0000 - accuracy: 0.7519 - val_loss: 27731059789529088.0000 - val_accuracy: 0.7135 - 320ms/epoch - 53ms/step\n",
      "Epoch 92/100\n",
      "6/6 - 0s - loss: 18695728498999296.0000 - accuracy: 0.7485 - val_loss: 27731059789529088.0000 - val_accuracy: 0.7180 - 329ms/epoch - 55ms/step\n",
      "Epoch 93/100\n",
      "6/6 - 0s - loss: 18695730646482944.0000 - accuracy: 0.7534 - val_loss: 27731059789529088.0000 - val_accuracy: 0.7192 - 311ms/epoch - 52ms/step\n",
      "Epoch 94/100\n"
     ]
    },
    {
     "name": "stdout",
     "output_type": "stream",
     "text": [
      "6/6 - 0s - loss: 18695730646482944.0000 - accuracy: 0.7542 - val_loss: 27731059789529088.0000 - val_accuracy: 0.7055 - 376ms/epoch - 63ms/step\n",
      "Epoch 95/100\n",
      "6/6 - 0s - loss: 18695728498999296.0000 - accuracy: 0.7538 - val_loss: 27731059789529088.0000 - val_accuracy: 0.7192 - 314ms/epoch - 52ms/step\n",
      "Epoch 96/100\n",
      "6/6 - 0s - loss: 18695728498999296.0000 - accuracy: 0.7538 - val_loss: 27731059789529088.0000 - val_accuracy: 0.7203 - 321ms/epoch - 53ms/step\n",
      "Epoch 97/100\n",
      "6/6 - 0s - loss: 18695730646482944.0000 - accuracy: 0.7519 - val_loss: 27731059789529088.0000 - val_accuracy: 0.7100 - 346ms/epoch - 58ms/step\n",
      "Epoch 98/100\n",
      "6/6 - 0s - loss: 18695728498999296.0000 - accuracy: 0.7515 - val_loss: 27731059789529088.0000 - val_accuracy: 0.7078 - 358ms/epoch - 60ms/step\n",
      "Epoch 99/100\n",
      "6/6 - 0s - loss: 18695730646482944.0000 - accuracy: 0.7451 - val_loss: 27731059789529088.0000 - val_accuracy: 0.7192 - 317ms/epoch - 53ms/step\n",
      "Epoch 100/100\n",
      "6/6 - 0s - loss: 18695728498999296.0000 - accuracy: 0.7576 - val_loss: 27731059789529088.0000 - val_accuracy: 0.7203 - 318ms/epoch - 53ms/step\n"
     ]
    }
   ],
   "source": [
    "batched_history =  batched_model.fit(\n",
    "    X_train, \n",
    "    y_train,\n",
    "    epochs=100, \n",
    "    validation_split=0.25,\n",
    "    batch_size=500,\n",
    "    verbose=2\n",
    ")"
   ]
  }
 ],
 "metadata": {
  "kernelspec": {
   "display_name": "Python 3",
   "language": "python",
   "name": "python3"
  },
  "language_info": {
   "codemirror_mode": {
    "name": "ipython",
    "version": 3
   },
   "file_extension": ".py",
   "mimetype": "text/x-python",
   "name": "python",
   "nbconvert_exporter": "python",
   "pygments_lexer": "ipython3",
   "version": "3.11.3"
  },
  "orig_nbformat": 4
 },
 "nbformat": 4,
 "nbformat_minor": 2
}
